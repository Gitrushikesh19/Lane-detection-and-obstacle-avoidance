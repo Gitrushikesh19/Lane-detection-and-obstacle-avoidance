{
 "cells": [
  {
   "metadata": {},
   "cell_type": "code",
   "source": [
    "import torch\n",
    "import torch.optim as optim\n",
    "from torch.utils.data import DataLoader\n",
    "from run_src.dataset import LaneDataset\n",
    "from run_src.model_unet import UNet\n",
    "from run_src.losses import BCEDiceLoss\n",
    "from run_src.utils import dice_score"
   ],
   "id": "3d2e29acaf2eb388",
   "outputs": [],
   "execution_count": null
  },
  {
   "cell_type": "code",
   "id": "initial_id",
   "metadata": {
    "collapsed": true
   },
   "source": [
    "img_dir = \"data/raw/images\"\n",
    "mask_dir = \"data/raw/masks\""
   ],
   "outputs": [],
   "execution_count": null
  },
  {
   "metadata": {},
   "cell_type": "code",
   "source": [
    "train_ds = LaneDataset(img_dir, mask_dir, augment=True)\n",
    "val_ds = LaneDataset(img_dir, mask_dir, augment=False)\n",
    "train_loader = DataLoader(train_ds, batch_size=2, shuffle=True)\n",
    "val_loader = DataLoader(val_ds, batch_size=2, shuffle=True)"
   ],
   "id": "b0d31abbde0e9d28",
   "outputs": [],
   "execution_count": null
  },
  {
   "metadata": {},
   "cell_type": "code",
   "source": [
    "device = \"cuda\" if torch.cuda.is_available() else \"cpu\"\n",
    "model = UNet(n_channels=3, n_classes=1).to(device)\n",
    "criterion = BCEDiceLoss()\n",
    "optimizer = optim.AdamW(model.parameters(), lr=1e-3)"
   ],
   "id": "3f7f430464416355",
   "outputs": [],
   "execution_count": null
  },
  {
   "metadata": {},
   "cell_type": "code",
   "outputs": [],
   "execution_count": null,
   "source": [
    "def save_checkpoint(state, filename=\"checkpoint.pth\"):\n",
    "    print(\"saving checkpoint\")\n",
    "    torch.save(state, filename)\n",
    "\n",
    "def load_checkpoint(checkpoint):\n",
    "    print(\"loading checkpoint\")\n",
    "    model.load_state_dict(checkpoint[\"state_dict\"])\n",
    "    optimizer.load_state_dict(checkpoint[\"optimizer\"])\n"
   ],
   "id": "7ef906def3612b45"
  },
  {
   "metadata": {},
   "cell_type": "code",
   "source": [
    "epochs = 20\n",
    "for epoch in range(epochs):\n",
    "    model.train()\n",
    "    train_loss = 0\n",
    "    for imgs, masks in train_loader:\n",
    "        imgs, masks = imgs.to(device), masks.to(device)\n",
    "        preds = model(imgs)\n",
    "        loss = criterion(preds, masks)\n",
    "        optimizer.zero_grad()\n",
    "        loss.backward()\n",
    "        optimizer.step()\n",
    "        train_loss += loss.item()\n",
    "\n",
    "    model.eval()\n",
    "    val_loss, val_dice = 0, 0\n",
    "    with torch.no_grad():\n",
    "        for imgs, masks in val_loader:\n",
    "            imgs, masks = imgs.to(device), masks.to(device)\n",
    "            preds = model(imgs)\n",
    "            loss = criterion(preds, masks)\n",
    "            val_loss +=loss.item()\n",
    "            val_dice += dice_score(preds, masks)\n",
    "\n",
    "    print(f\"Epoch {epoch+1}/{epochs}, Train {train_loss/len(train_loader):.4f},\"\n",
    "          f\"Val {val_loss/len(val_loader):.4f}, Dice {val_dice/len(val_loader):.4f}\")\n",
    "\n",
    "    if epoch == 5:\n",
    "        checkpoint = {\"state_dict\": model.state_dict(), \"optimizer\": optimizer.state_dict()}\n",
    "        save_checkpoint(checkpoint)"
   ],
   "id": "4dd78cb768790f6a",
   "outputs": [],
   "execution_count": null
  },
  {
   "metadata": {},
   "cell_type": "code",
   "source": "",
   "id": "3522b7c809a09bf6",
   "outputs": [],
   "execution_count": null
  }
 ],
 "metadata": {
  "kernelspec": {
   "display_name": "Python 3",
   "language": "python",
   "name": "python3"
  },
  "language_info": {
   "codemirror_mode": {
    "name": "ipython",
    "version": 2
   },
   "file_extension": ".py",
   "mimetype": "text/x-python",
   "name": "python",
   "nbconvert_exporter": "python",
   "pygments_lexer": "ipython2",
   "version": "2.7.6"
  }
 },
 "nbformat": 4,
 "nbformat_minor": 5
}
